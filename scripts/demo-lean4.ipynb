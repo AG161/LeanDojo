{
 "cells": [
  {
   "cell_type": "markdown",
   "id": "829b7005",
   "metadata": {},
   "source": [
    "LeanDojo Demo\n",
    "=============\n",
    "\n",
    "This notebook demonstrates the main features of LeanDojo (using Lean 4). Please refer to the [documentation](https://leandojo.readthedocs.io/en/latest/) for more details."
   ]
  },
  {
   "cell_type": "code",
   "execution_count": 1,
   "id": "f3c23856",
   "metadata": {},
   "outputs": [],
   "source": [
    "from lean_dojo import *"
   ]
  },
  {
   "cell_type": "markdown",
   "id": "7d400df8",
   "metadata": {},
   "source": [
    "## Extract Data from Lean"
   ]
  },
  {
   "cell_type": "code",
   "execution_count": 2,
   "id": "ef2ab5b2",
   "metadata": {},
   "outputs": [
    {
     "data": {
      "text/plain": [
       "LeanGitRepo(url='https://github.com/leanprover-community/mathlib4', commit='5a919533f110b7d76410134a237ee374f24eaaad')"
      ]
     },
     "execution_count": 2,
     "metadata": {},
     "output_type": "execute_result"
    }
   ],
   "source": [
    "repo = LeanGitRepo(\n",
    "    \"https://github.com/leanprover-community/mathlib4\",\n",
    "    \"5a919533f110b7d76410134a237ee374f24eaaad\",\n",
    ")\n",
    "\n",
    "repo"
   ]
  },
  {
   "cell_type": "code",
   "execution_count": 3,
   "id": "dd959495",
   "metadata": {},
   "outputs": [],
   "source": [
    "# Expected behavior: this line should open another tab and take you to the website of the repo to be traced.\n",
    "repo.show()"
   ]
  },
  {
   "cell_type": "code",
   "execution_count": 4,
   "id": "4c2945c2",
   "metadata": {},
   "outputs": [
    {
     "data": {
      "text/plain": [
       "'leanprover/lean4:nightly-2023-06-07\\n'"
      ]
     },
     "execution_count": 4,
     "metadata": {},
     "output_type": "execute_result"
    }
   ],
   "source": [
    "repo.get_config(\"lean-toolchain\")"
   ]
  },
  {
   "cell_type": "code",
   "execution_count": 5,
   "id": "1a9c39cc",
   "metadata": {},
   "outputs": [
    {
     "name": "stderr",
     "output_type": "stream",
     "text": [
      "\u001b[32m2023-07-20 21:39:20.487\u001b[0m | \u001b[34m\u001b[1mDEBUG   \u001b[0m | \u001b[36mlean_dojo.data_extraction.trace\u001b[0m:\u001b[36mget_traced_repo_path\u001b[0m:\u001b[36m140\u001b[0m - \u001b[34m\u001b[1mThe traced repo is available in the cache.\u001b[0m\n",
      "\u001b[32m2023-07-20 21:39:20.487\u001b[0m | \u001b[1mINFO    \u001b[0m | \u001b[36mlean_dojo.data_extraction.trace\u001b[0m:\u001b[36mtrace\u001b[0m:\u001b[36m164\u001b[0m - \u001b[1mLoading the traced repo from /home/peiyang/.cache/lean_dojo/leanprover-community-mathlib4-5a919533f110b7d76410134a237ee374f24eaaad/mathlib4\u001b[0m\n",
      "\u001b[32m2023-07-20 21:39:20.635\u001b[0m | \u001b[34m\u001b[1mDEBUG   \u001b[0m | \u001b[36mlean_dojo.data_extraction.traced_data\u001b[0m:\u001b[36mload_from_disk\u001b[0m:\u001b[36m1397\u001b[0m - \u001b[34m\u001b[1mLoading 3773 traced XML files from /home/peiyang/.cache/lean_dojo/leanprover-community-mathlib4-5a919533f110b7d76410134a237ee374f24eaaad/mathlib4 with 39 workers\u001b[0m\n",
      "2023-07-20 21:39:23,151\tINFO worker.py:1627 -- Started a local Ray instance. View the dashboard at \u001b[1m\u001b[32m127.0.0.1:8265 \u001b[39m\u001b[22m\n",
      "100%|█████████████████████████████████████████████████████████████████████████████████████████████████████████████████████████████████| 3773/3773 [08:43<00:00,  7.21it/s]\n",
      "\u001b[32m2023-07-20 21:48:12.297\u001b[0m | \u001b[34m\u001b[1mDEBUG   \u001b[0m | \u001b[36mlean_dojo.data_extraction.lean\u001b[0m:\u001b[36m_parse_lakefile_dependencies\u001b[0m:\u001b[36m452\u001b[0m - \u001b[34m\u001b[1mQuerying the commit hash for https://github.com/leanprover/doc-gen4 \"main\"\u001b[0m\n",
      "\u001b[32m2023-07-20 21:48:12.873\u001b[0m | \u001b[34m\u001b[1mDEBUG   \u001b[0m | \u001b[36mlean_dojo.data_extraction.lean\u001b[0m:\u001b[36m_parse_lakefile_dependencies\u001b[0m:\u001b[36m452\u001b[0m - \u001b[34m\u001b[1mQuerying the commit hash for https://github.com/leanprover/std4 \"main\"\u001b[0m\n",
      "\u001b[32m2023-07-20 21:48:13.641\u001b[0m | \u001b[34m\u001b[1mDEBUG   \u001b[0m | \u001b[36mlean_dojo.data_extraction.lean\u001b[0m:\u001b[36m_parse_lakefile_dependencies\u001b[0m:\u001b[36m452\u001b[0m - \u001b[34m\u001b[1mQuerying the commit hash for https://github.com/gebner/quote4 \"master\"\u001b[0m\n",
      "\u001b[32m2023-07-20 21:48:15.239\u001b[0m | \u001b[34m\u001b[1mDEBUG   \u001b[0m | \u001b[36mlean_dojo.data_extraction.lean\u001b[0m:\u001b[36m_parse_lakefile_dependencies\u001b[0m:\u001b[36m452\u001b[0m - \u001b[34m\u001b[1mQuerying the commit hash for https://github.com/JLimperg/aesop \"master\"\u001b[0m\n",
      "\u001b[32m2023-07-20 21:48:15.935\u001b[0m | \u001b[34m\u001b[1mDEBUG   \u001b[0m | \u001b[36mlean_dojo.data_extraction.lean\u001b[0m:\u001b[36m_parse_lakefile_dependencies\u001b[0m:\u001b[36m452\u001b[0m - \u001b[34m\u001b[1mQuerying the commit hash for https://github.com/EdAyers/ProofWidgets4 \"v0.0.11\"\u001b[0m\n"
     ]
    }
   ],
   "source": [
    "# A few minutes if the traced repo is in the cache; many hours otherwise.\n",
    "traced_repo = trace(repo)"
   ]
  },
  {
   "cell_type": "code",
   "execution_count": 6,
   "id": "25ccf173",
   "metadata": {},
   "outputs": [
    {
     "data": {
      "text/plain": [
       "<networkx.classes.digraph.DiGraph at 0x7febe91da1a0>"
      ]
     },
     "execution_count": 6,
     "metadata": {},
     "output_type": "execute_result"
    }
   ],
   "source": [
    "traced_repo.traced_files_graph"
   ]
  },
  {
   "cell_type": "code",
   "execution_count": 7,
   "id": "375023d4",
   "metadata": {},
   "outputs": [
    {
     "data": {
      "text/plain": [
       "3773"
      ]
     },
     "execution_count": 7,
     "metadata": {},
     "output_type": "execute_result"
    }
   ],
   "source": [
    "traced_repo.num_traced_files"
   ]
  },
  {
   "cell_type": "code",
   "execution_count": 8,
   "id": "1c725a11",
   "metadata": {},
   "outputs": [
    {
     "data": {
      "text/plain": [
       "TracedFile(root_dir=PosixPath('/home/peiyang/.cache/lean_dojo/leanprover-community-mathlib4-5a919533f110b7d76410134a237ee374f24eaaad/mathlib4'), lean_file=LeanFile(path=PosixPath('Mathlib/Algebra/Algebra/Bilinear.lean'), uses_lean4=True))"
      ]
     },
     "execution_count": 8,
     "metadata": {},
     "output_type": "execute_result"
    }
   ],
   "source": [
    "traced_file = traced_repo.get_traced_file(\n",
    "    \"Mathlib/Algebra/Algebra/Bilinear.lean\"\n",
    ")\n",
    "\n",
    "traced_file"
   ]
  },
  {
   "cell_type": "code",
   "execution_count": 9,
   "id": "153f37ce",
   "metadata": {},
   "outputs": [
    {
     "data": {
      "text/plain": [
       "[{'full_name': 'LinearMap.mulLeft_toAddMonoidHom',\n",
       "  'code': 'theorem mulLeft_toAddMonoidHom (a : A) : (mulLeft R a : A →+ A) = AddMonoidHom.mulLeft a',\n",
       "  'start': [64, 1],\n",
       "  'end': [65, 6],\n",
       "  'kind': 'commandtheoremn'},\n",
       " {'full_name': 'LinearMap.mulRight_toAddMonoidHom',\n",
       "  'code': 'theorem mulRight_toAddMonoidHom (a : A) : (mulRight R a : A →+ A) = AddMonoidHom.mulRight a',\n",
       "  'start': [69, 1],\n",
       "  'end': [70, 6],\n",
       "  'kind': 'commandtheoremn'},\n",
       " {'full_name': \"LinearMap.mul_apply'\",\n",
       "  'code': \"theorem mul_apply' (a b : A) : mul R A a b = a * b\",\n",
       "  'start': [76, 1],\n",
       "  'end': [77, 6],\n",
       "  'kind': 'commandtheoremn'},\n",
       " {'full_name': 'LinearMap.mulLeft_apply',\n",
       "  'code': 'theorem mulLeft_apply (a b : A) : mulLeft R a b = a * b',\n",
       "  'start': [81, 1],\n",
       "  'end': [82, 6],\n",
       "  'kind': 'commandtheoremn'},\n",
       " {'full_name': 'LinearMap.mulRight_apply',\n",
       "  'code': 'theorem mulRight_apply (a b : A) : mulRight R a b = b * a',\n",
       "  'start': [86, 1],\n",
       "  'end': [87, 6],\n",
       "  'kind': 'commandtheoremn'},\n",
       " {'full_name': 'LinearMap.mulLeftRight_apply',\n",
       "  'code': 'theorem mulLeftRight_apply (a b x : A) : mulLeftRight R (a, b) x = a * x * b',\n",
       "  'start': [91, 1],\n",
       "  'end': [92, 6],\n",
       "  'kind': 'commandtheoremn'},\n",
       " {'full_name': \"LinearMap.mul'_apply\",\n",
       "  'code': \"theorem mul'_apply {a b : A} : mul' R A (a ⊗ₜ b) = a * b\",\n",
       "  'start': [96, 1],\n",
       "  'end': [97, 6],\n",
       "  'kind': 'commandtheoremn'},\n",
       " {'full_name': 'LinearMap.mulLeft_zero_eq_zero',\n",
       "  'code': 'theorem mulLeft_zero_eq_zero : mulLeft R (0 : A) = 0',\n",
       "  'start': [101, 1],\n",
       "  'end': [102, 21],\n",
       "  'kind': 'commandtheoremn'},\n",
       " {'full_name': 'LinearMap.mulRight_zero_eq_zero',\n",
       "  'code': 'theorem mulRight_zero_eq_zero : mulRight R (0 : A) = 0',\n",
       "  'start': [106, 1],\n",
       "  'end': [107, 26],\n",
       "  'kind': 'commandtheoremn'},\n",
       " {'full_name': 'NonUnitalAlgHom.coe_lmul_eq_mul',\n",
       "  'code': 'theorem _root_.NonUnitalAlgHom.coe_lmul_eq_mul : ⇑(NonUnitalAlgHom.lmul R A) = mul R A',\n",
       "  'start': [134, 1],\n",
       "  'end': [135, 6],\n",
       "  'kind': 'commandtheoremn'},\n",
       " {'full_name': 'LinearMap.commute_mulLeft_right',\n",
       "  'code': 'theorem commute_mulLeft_right (a b : A) : Commute (mulLeft R a) (mulRight R b)',\n",
       "  'start': [138, 1],\n",
       "  'end': [140, 31],\n",
       "  'kind': 'commandtheoremn'},\n",
       " {'full_name': 'LinearMap.mulLeft_mul',\n",
       "  'code': 'theorem mulLeft_mul (a b : A) : mulLeft R (a * b) = (mulLeft R a).comp (mulLeft R b)',\n",
       "  'start': [144, 1],\n",
       "  'end': [146, 51],\n",
       "  'kind': 'commandtheoremn'},\n",
       " {'full_name': 'LinearMap.mulRight_mul',\n",
       "  'code': 'theorem mulRight_mul (a b : A) : mulRight R (a * b) = (mulRight R b).comp (mulRight R a)',\n",
       "  'start': [150, 1],\n",
       "  'end': [152, 52],\n",
       "  'kind': 'commandtheoremn'},\n",
       " {'full_name': 'Algebra.coe_lmul_eq_mul',\n",
       "  'code': 'theorem _root_.Algebra.coe_lmul_eq_mul : ⇑(Algebra.lmul R A) = mul R A',\n",
       "  'start': [186, 1],\n",
       "  'end': [187, 6],\n",
       "  'kind': 'commandtheoremn'},\n",
       " {'full_name': 'LinearMap.mulLeft_eq_zero_iff',\n",
       "  'code': 'theorem mulLeft_eq_zero_iff (a : A) : mulLeft R a = 0 ↔ a = 0',\n",
       "  'start': [191, 1],\n",
       "  'end': [196, 31],\n",
       "  'kind': 'commandtheoremn'},\n",
       " {'full_name': 'LinearMap.mulRight_eq_zero_iff',\n",
       "  'code': 'theorem mulRight_eq_zero_iff (a : A) : mulRight R a = 0 ↔ a = 0',\n",
       "  'start': [200, 1],\n",
       "  'end': [205, 32],\n",
       "  'kind': 'commandtheoremn'},\n",
       " {'full_name': 'LinearMap.mulLeft_one',\n",
       "  'code': 'theorem mulLeft_one : mulLeft R (1 : A) = LinearMap.id',\n",
       "  'start': [209, 1],\n",
       "  'end': [211, 63],\n",
       "  'kind': 'commandtheoremn'},\n",
       " {'full_name': 'LinearMap.mulRight_one',\n",
       "  'code': 'theorem mulRight_one : mulRight R (1 : A) = LinearMap.id',\n",
       "  'start': [215, 1],\n",
       "  'end': [217, 64],\n",
       "  'kind': 'commandtheoremn'},\n",
       " {'full_name': 'LinearMap.pow_mulLeft',\n",
       "  'code': 'theorem pow_mulLeft (a : A) (n : ℕ) : mulLeft R a ^ n = mulLeft R (a ^ n)',\n",
       "  'start': [221, 1],\n",
       "  'end': [222, 94],\n",
       "  'kind': 'commandtheoremn'},\n",
       " {'full_name': 'LinearMap.pow_mulRight',\n",
       "  'code': 'theorem pow_mulRight (a : A) (n : ℕ) : mulRight R a ^ n = mulRight R (a ^ n)',\n",
       "  'start': [226, 1],\n",
       "  'end': [229, 86],\n",
       "  'kind': 'commandtheoremn'},\n",
       " {'full_name': 'LinearMap.mulLeft_injective',\n",
       "  'code': 'theorem mulLeft_injective [NoZeroDivisors A] {x : A} (hx : x ≠ 0) :\\n    Function.Injective (mulLeft R x)',\n",
       "  'start': [238, 1],\n",
       "  'end': [242, 32],\n",
       "  'kind': 'commandtheoremn'},\n",
       " {'full_name': 'LinearMap.mulRight_injective',\n",
       "  'code': 'theorem mulRight_injective [NoZeroDivisors A] {x : A} (hx : x ≠ 0) :\\n    Function.Injective (mulRight R x)',\n",
       "  'start': [245, 1],\n",
       "  'end': [249, 31],\n",
       "  'kind': 'commandtheoremn'},\n",
       " {'full_name': 'LinearMap.mul_injective',\n",
       "  'code': 'theorem mul_injective [NoZeroDivisors A] {x : A} (hx : x ≠ 0) : Function.Injective (mul R A x)',\n",
       "  'start': [252, 1],\n",
       "  'end': [255, 32],\n",
       "  'kind': 'commandtheoremn'}]"
      ]
     },
     "execution_count": 9,
     "metadata": {},
     "output_type": "execute_result"
    }
   ],
   "source": [
    "traced_file.get_premise_definitions()"
   ]
  },
  {
   "cell_type": "code",
   "execution_count": 10,
   "id": "77e58935",
   "metadata": {},
   "outputs": [
    {
     "data": {
      "text/plain": [
       "23"
      ]
     },
     "execution_count": 10,
     "metadata": {},
     "output_type": "execute_result"
    }
   ],
   "source": [
    "traced_theorems = traced_file.get_traced_theorems()\n",
    "\n",
    "len(traced_theorems)"
   ]
  },
  {
   "cell_type": "code",
   "execution_count": 11,
   "id": "00042165",
   "metadata": {},
   "outputs": [
    {
     "data": {
      "text/plain": [
       "TracedTheorem(theorem=Theorem(repo=LeanGitRepo(url='https://github.com/leanprover-community/mathlib4', commit='5a919533f110b7d76410134a237ee374f24eaaad'), file_path=PosixPath('Mathlib/Algebra/Algebra/Bilinear.lean'), full_name='LinearMap.mulLeft_eq_zero_iff'))"
      ]
     },
     "execution_count": 11,
     "metadata": {},
     "output_type": "execute_result"
    }
   ],
   "source": [
    "thm = traced_file.get_traced_theorem(\"LinearMap.mulLeft_eq_zero_iff\")\n",
    "\n",
    "thm"
   ]
  },
  {
   "cell_type": "code",
   "execution_count": 12,
   "id": "4d9ed905",
   "metadata": {},
   "outputs": [],
   "source": [
    "# Expected behavior: this line should open another tab and take you to the website of the traced theorem.\n",
    "thm.show()"
   ]
  },
  {
   "cell_type": "code",
   "execution_count": 13,
   "id": "eafb6369",
   "metadata": {},
   "outputs": [
    {
     "data": {
      "text/plain": [
       "Theorem(repo=LeanGitRepo(url='https://github.com/leanprover-community/mathlib4', commit='5a919533f110b7d76410134a237ee374f24eaaad'), file_path=PosixPath('Mathlib/Algebra/Algebra/Bilinear.lean'), full_name='LinearMap.mulLeft_eq_zero_iff')"
      ]
     },
     "execution_count": 13,
     "metadata": {},
     "output_type": "execute_result"
    }
   ],
   "source": [
    "thm.theorem"
   ]
  },
  {
   "cell_type": "code",
   "execution_count": 14,
   "id": "5e00cba9",
   "metadata": {},
   "outputs": [
    {
     "data": {
      "text/plain": [
       "((191, 1), (196, 31))"
      ]
     },
     "execution_count": 14,
     "metadata": {},
     "output_type": "execute_result"
    }
   ],
   "source": [
    "thm.start, thm.end"
   ]
  },
  {
   "cell_type": "code",
   "execution_count": 15,
   "id": "5f54603a",
   "metadata": {},
   "outputs": [
    {
     "data": {
      "text/plain": [
       "datetime.datetime(2023, 3, 1, 18, 9, 25, tzinfo=datetime.timezone.utc)"
      ]
     },
     "execution_count": 15,
     "metadata": {},
     "output_type": "execute_result"
    }
   ],
   "source": [
    "thm.get_creation_date()"
   ]
  },
  {
   "cell_type": "code",
   "execution_count": 16,
   "id": "14c611f4",
   "metadata": {},
   "outputs": [
    {
     "data": {
      "text/plain": [
       "True"
      ]
     },
     "execution_count": 16,
     "metadata": {},
     "output_type": "execute_result"
    }
   ],
   "source": [
    "thm.has_tactic_proof()"
   ]
  },
  {
   "cell_type": "code",
   "execution_count": 17,
   "id": "24bc67e9",
   "metadata": {},
   "outputs": [
    {
     "data": {
      "text/plain": [
       "6"
      ]
     },
     "execution_count": 17,
     "metadata": {},
     "output_type": "execute_result"
    }
   ],
   "source": [
    "thm.get_num_tactics()"
   ]
  },
  {
   "cell_type": "code",
   "execution_count": 18,
   "id": "3fa19ef3",
   "metadata": {},
   "outputs": [
    {
     "name": "stdout",
     "output_type": "stream",
     "text": [
      "by\n",
      "  constructor <;> intro h\n",
      "  -- porting note: had to supply `R` explicitly in `@mulLeft_apply` below\n",
      "  · rw [← mul_one a, ← @mulLeft_apply R _ _ _ _ _ _ a 1, h, LinearMap.zero_apply]\n",
      "  · rw [h]\n",
      "    exact mulLeft_zero_eq_zero\n"
     ]
    }
   ],
   "source": [
    "proof_node = thm.get_proof_node()\n",
    "proof = proof_node.lean_file[proof_node.start : proof_node.end]\n",
    "print(proof)"
   ]
  },
  {
   "cell_type": "code",
   "execution_count": 19,
   "id": "1fae1876",
   "metadata": {},
   "outputs": [
    {
     "data": {
      "text/plain": [
       "[TracedTactic(tactic=constructor <;> intro h, state_before=R : Type u_2\n",
       " A : Type u_1\n",
       " inst✝² : CommSemiring R\n",
       " inst✝¹ : Semiring A\n",
       " inst✝ : Algebra R A\n",
       " a : A\n",
       " ⊢ mulLeft R a = 0 ↔ a = 0, state_after=case mp\n",
       " R : Type u_2\n",
       " A : Type u_1\n",
       " inst✝² : CommSemiring R\n",
       " inst✝¹ : Semiring A\n",
       " inst✝ : Algebra R A\n",
       " a : A\n",
       " h : mulLeft R a = 0\n",
       " ⊢ a = 0\n",
       " \n",
       " case mpr\n",
       " R : Type u_2\n",
       " A : Type u_1\n",
       " inst✝² : CommSemiring R\n",
       " inst✝¹ : Semiring A\n",
       " inst✝ : Algebra R A\n",
       " a : A\n",
       " h : a = 0\n",
       " ⊢ mulLeft R a = 0),\n",
       " TracedTactic(tactic=· rw [← mul_one a, ← @mulLeft_apply R _ _ _ _ _ _ a 1, h, LinearMap.zero_apply], state_before=case mp\n",
       " R : Type u_2\n",
       " A : Type u_1\n",
       " inst✝² : CommSemiring R\n",
       " inst✝¹ : Semiring A\n",
       " inst✝ : Algebra R A\n",
       " a : A\n",
       " h : mulLeft R a = 0\n",
       " ⊢ a = 0\n",
       " \n",
       " case mpr\n",
       " R : Type u_2\n",
       " A : Type u_1\n",
       " inst✝² : CommSemiring R\n",
       " inst✝¹ : Semiring A\n",
       " inst✝ : Algebra R A\n",
       " a : A\n",
       " h : a = 0\n",
       " ⊢ mulLeft R a = 0, state_after=case mpr\n",
       " R : Type u_2\n",
       " A : Type u_1\n",
       " inst✝² : CommSemiring R\n",
       " inst✝¹ : Semiring A\n",
       " inst✝ : Algebra R A\n",
       " a : A\n",
       " h : a = 0\n",
       " ⊢ mulLeft R a = 0),\n",
       " TracedTactic(tactic=· rw [h]\n",
       "   exact mulLeft_zero_eq_zero, state_before=case mpr\n",
       " R : Type u_2\n",
       " A : Type u_1\n",
       " inst✝² : CommSemiring R\n",
       " inst✝¹ : Semiring A\n",
       " inst✝ : Algebra R A\n",
       " a : A\n",
       " h : a = 0\n",
       " ⊢ mulLeft R a = 0, state_after=no goals),\n",
       " TracedTactic(tactic=rw [← mul_one a, ← @mulLeft_apply R _ _ _ _ _ _ a 1, h, LinearMap.zero_apply], state_before=case mp\n",
       " R : Type u_2\n",
       " A : Type u_1\n",
       " inst✝² : CommSemiring R\n",
       " inst✝¹ : Semiring A\n",
       " inst✝ : Algebra R A\n",
       " a : A\n",
       " h : mulLeft R a = 0\n",
       " ⊢ a = 0, state_after=no goals),\n",
       " TracedTactic(tactic=rw [h], state_before=case mpr\n",
       " R : Type u_2\n",
       " A : Type u_1\n",
       " inst✝² : CommSemiring R\n",
       " inst✝¹ : Semiring A\n",
       " inst✝ : Algebra R A\n",
       " a : A\n",
       " h : a = 0\n",
       " ⊢ mulLeft R a = 0, state_after=case mpr\n",
       " R : Type u_2\n",
       " A : Type u_1\n",
       " inst✝² : CommSemiring R\n",
       " inst✝¹ : Semiring A\n",
       " inst✝ : Algebra R A\n",
       " a : A\n",
       " h : a = 0\n",
       " ⊢ mulLeft R 0 = 0),\n",
       " TracedTactic(tactic=exact mulLeft_zero_eq_zero, state_before=case mpr\n",
       " R : Type u_2\n",
       " A : Type u_1\n",
       " inst✝² : CommSemiring R\n",
       " inst✝¹ : Semiring A\n",
       " inst✝ : Algebra R A\n",
       " a : A\n",
       " h : a = 0\n",
       " ⊢ mulLeft R 0 = 0, state_after=no goals)]"
      ]
     },
     "execution_count": 19,
     "metadata": {},
     "output_type": "execute_result"
    }
   ],
   "source": [
    "traced_tactics = thm.get_traced_tactics()\n",
    "\n",
    "traced_tactics"
   ]
  },
  {
   "cell_type": "code",
   "execution_count": 20,
   "id": "39fbe993",
   "metadata": {},
   "outputs": [
    {
     "data": {
      "text/plain": [
       "TracedTactic(tactic=· rw [← mul_one a, ← @mulLeft_apply R _ _ _ _ _ _ a 1, h, LinearMap.zero_apply], state_before=case mp\n",
       "R : Type u_2\n",
       "A : Type u_1\n",
       "inst✝² : CommSemiring R\n",
       "inst✝¹ : Semiring A\n",
       "inst✝ : Algebra R A\n",
       "a : A\n",
       "h : mulLeft R a = 0\n",
       "⊢ a = 0\n",
       "\n",
       "case mpr\n",
       "R : Type u_2\n",
       "A : Type u_1\n",
       "inst✝² : CommSemiring R\n",
       "inst✝¹ : Semiring A\n",
       "inst✝ : Algebra R A\n",
       "a : A\n",
       "h : a = 0\n",
       "⊢ mulLeft R a = 0, state_after=case mpr\n",
       "R : Type u_2\n",
       "A : Type u_1\n",
       "inst✝² : CommSemiring R\n",
       "inst✝¹ : Semiring A\n",
       "inst✝ : Algebra R A\n",
       "a : A\n",
       "h : a = 0\n",
       "⊢ mulLeft R a = 0)"
      ]
     },
     "execution_count": 20,
     "metadata": {},
     "output_type": "execute_result"
    }
   ],
   "source": [
    "tac = traced_tactics[1]\n",
    "\n",
    "tac"
   ]
  },
  {
   "cell_type": "markdown",
   "id": "84b1c8b6",
   "metadata": {},
   "source": [
    "## Interact with Lean Programmatically"
   ]
  },
  {
   "cell_type": "code",
   "execution_count": 21,
   "id": "f3d3f736",
   "metadata": {},
   "outputs": [
    {
     "data": {
      "text/plain": [
       "LeanGitRepo(url='https://github.com/leanprover-community/mathlib4', commit='5a919533f110b7d76410134a237ee374f24eaaad')"
      ]
     },
     "execution_count": 21,
     "metadata": {},
     "output_type": "execute_result"
    }
   ],
   "source": [
    "repo"
   ]
  },
  {
   "cell_type": "code",
   "execution_count": 22,
   "id": "10364e0f",
   "metadata": {},
   "outputs": [
    {
     "name": "stderr",
     "output_type": "stream",
     "text": [
      "\u001b[32m2023-07-20 21:54:10.091\u001b[0m | \u001b[33m\u001b[1mWARNING \u001b[0m | \u001b[36mlean_dojo.interaction.dojo\u001b[0m:\u001b[36m__post_init__\u001b[0m:\u001b[36m171\u001b[0m - \u001b[33m\u001b[1mUsing Lean 4 without a hard timeout may lead to problems if a tactic hangs indefinitely.\u001b[0m\n",
      "\u001b[32m2023-07-20 21:54:10.095\u001b[0m | \u001b[34m\u001b[1mDEBUG   \u001b[0m | \u001b[36mlean_dojo.interaction.dojo\u001b[0m:\u001b[36m__enter__\u001b[0m:\u001b[36m193\u001b[0m - \u001b[34m\u001b[1mInitializing Dojo for Theorem(repo=LeanGitRepo(url='https://github.com/leanprover-community/mathlib4', commit='5a919533f110b7d76410134a237ee374f24eaaad'), file_path=PosixPath('Mathlib/Algebra/Algebra/Bilinear.lean'), full_name='LinearMap.mulLeft_one')\u001b[0m\n",
      "\u001b[32m2023-07-20 21:54:10.096\u001b[0m | \u001b[34m\u001b[1mDEBUG   \u001b[0m | \u001b[36mlean_dojo.data_extraction.trace\u001b[0m:\u001b[36mget_traced_repo_path\u001b[0m:\u001b[36m140\u001b[0m - \u001b[34m\u001b[1mThe traced repo is available in the cache.\u001b[0m\n",
      "\u001b[32m2023-07-20 21:54:32.746\u001b[0m | \u001b[34m\u001b[1mDEBUG   \u001b[0m | \u001b[36mlean_dojo.interaction.dojo\u001b[0m:\u001b[36m_modify_proof\u001b[0m:\u001b[36m384\u001b[0m - \u001b[34m\u001b[1mModifying the proof\u001b[0m\n",
      "\u001b[32m2023-07-20 21:57:52.300\u001b[0m | \u001b[34m\u001b[1mDEBUG   \u001b[0m | \u001b[36mlean_dojo.interaction.dojo\u001b[0m:\u001b[36m__enter__\u001b[0m:\u001b[36m246\u001b[0m - \u001b[34m\u001b[1mLaunching the proof using <class 'lean_dojo.container.DockerContainer'>\u001b[0m\n",
      "\u001b[32m2023-07-20 21:57:52.325\u001b[0m | \u001b[34m\u001b[1mDEBUG   \u001b[0m | \u001b[36mlean_dojo.container\u001b[0m:\u001b[36mrun\u001b[0m:\u001b[36m305\u001b[0m - \u001b[34m\u001b[1mdocker run --cidfile uuiysagn.cid --rm -u 1025 --mount type=bind,src=\"/home/peiyang/temp-cache/tmpc06rl114/mathlib4\",target=\"/workspace/mathlib4\" --workdir /workspace/mathlib4 yangky11/lean-dojo lake build Lean4Repl\u001b[0m\n",
      "\u001b[32m2023-07-20 21:58:04.820\u001b[0m | \u001b[34m\u001b[1mDEBUG   \u001b[0m | \u001b[36mlean_dojo.container\u001b[0m:\u001b[36mrun_interactive\u001b[0m:\u001b[36m341\u001b[0m - \u001b[34m\u001b[1mdocker run --cidfile zx0pcxvv.cid --rm -u 1025 --mount type=bind,src=\"/home/peiyang/temp-cache/tmpc06rl114/mathlib4\",target=\"/workspace/mathlib4\" --cpus 1 --memory 16g --workdir /workspace/mathlib4 -i yangky11/lean-dojo lake env lean Mathlib/Algebra/Algebra/Bilinear.lean\u001b[0m\n",
      "\u001b[32m2023-07-20 21:58:04.867\u001b[0m | \u001b[34m\u001b[1mDEBUG   \u001b[0m | \u001b[36mlean_dojo.interaction.dojo\u001b[0m:\u001b[36m_read_next_line\u001b[0m:\u001b[36m541\u001b[0m - \u001b[34m\u001b[1mWARNING: Your kernel does not support swap limit capabilities or the cgroup is not mounted. Memory limited without swap.\u001b[0m\n",
      "\u001b[32m2023-07-20 21:58:05.297\u001b[0m | \u001b[34m\u001b[1mDEBUG   \u001b[0m | \u001b[36mlean_dojo.interaction.dojo\u001b[0m:\u001b[36m_read_next_line\u001b[0m:\u001b[36m541\u001b[0m - \u001b[34m\u001b[1minfo: downloading component 'lean'\u001b[0m\n",
      "\u001b[32m2023-07-20 21:58:07.606\u001b[0m | \u001b[34m\u001b[1mDEBUG   \u001b[0m | \u001b[36mlean_dojo.interaction.dojo\u001b[0m:\u001b[36m_read_next_line\u001b[0m:\u001b[36m541\u001b[0m - \u001b[34m\u001b[1minfo: installing component 'lean'\u001b[0m\n",
      "\u001b[32m2023-07-20 21:58:17.620\u001b[0m | \u001b[34m\u001b[1mDEBUG   \u001b[0m | \u001b[36mlean_dojo.interaction.dojo\u001b[0m:\u001b[36m_read_next_line\u001b[0m:\u001b[36m541\u001b[0m - \u001b[34m\u001b[1mREPL> {\"tsid\": 0, \"tactic_state\": \"R : Type u_2\\nA : Type u_1\\ninst✝² : CommSemiring R\\ninst✝¹ : Semiring A\\ninst✝ : Algebra R A\\n⊢ mulLeft R 1 = id\", \"error\": null}\u001b[0m\n"
     ]
    }
   ],
   "source": [
    "theorem = Theorem(\n",
    "    repo, \"Mathlib/Algebra/Algebra/Bilinear.lean\", \"LinearMap.mulLeft_one\"\n",
    ")\n",
    "\n",
    "# For some theorems, it might take a few minutes.\n",
    "dojo, state_0 = Dojo(theorem).__enter__()"
   ]
  },
  {
   "cell_type": "code",
   "execution_count": 23,
   "id": "a7d4ad9a",
   "metadata": {},
   "outputs": [
    {
     "data": {
      "text/plain": [
       "TacticState(pp='R : Type u_2\\nA : Type u_1\\ninst✝² : CommSemiring R\\ninst✝¹ : Semiring A\\ninst✝ : Algebra R A\\n⊢ mulLeft R 1 = id', id=0, message=None)"
      ]
     },
     "execution_count": 23,
     "metadata": {},
     "output_type": "execute_result"
    }
   ],
   "source": [
    "state_0"
   ]
  },
  {
   "cell_type": "code",
   "execution_count": 24,
   "id": "af88893b",
   "metadata": {},
   "outputs": [
    {
     "name": "stdout",
     "output_type": "stream",
     "text": [
      "R : Type u_2\n",
      "A : Type u_1\n",
      "inst✝² : CommSemiring R\n",
      "inst✝¹ : Semiring A\n",
      "inst✝ : Algebra R A\n",
      "⊢ mulLeft R 1 = id\n"
     ]
    }
   ],
   "source": [
    "print(state_0.pp)"
   ]
  },
  {
   "cell_type": "code",
   "execution_count": 25,
   "id": "4ca2dca9",
   "metadata": {},
   "outputs": [
    {
     "name": "stderr",
     "output_type": "stream",
     "text": [
      "\u001b[32m2023-07-20 21:58:17.667\u001b[0m | \u001b[34m\u001b[1mDEBUG   \u001b[0m | \u001b[36mlean_dojo.interaction.dojo\u001b[0m:\u001b[36m_submit_request\u001b[0m:\u001b[36m501\u001b[0m - \u001b[34m\u001b[1mRequest: {\"tsid\": 0, \"tac\": \"ext\"}\u001b[0m\n",
      "\u001b[32m2023-07-20 21:58:17.692\u001b[0m | \u001b[34m\u001b[1mDEBUG   \u001b[0m | \u001b[36mlean_dojo.interaction.dojo\u001b[0m:\u001b[36m_read_next_line\u001b[0m:\u001b[36m541\u001b[0m - \u001b[34m\u001b[1mREPL> {\"tsid\": 1, \"tactic_state\": \"case h\\nR : Type u_2\\nA : Type u_1\\ninst✝² : CommSemiring R\\ninst✝¹ : Semiring A\\ninst✝ : Algebra R A\\nx✝ : A\\n⊢ ↑(mulLeft R 1) x✝ = ↑id x✝\", \"error\": null}\u001b[0m\n"
     ]
    },
    {
     "name": "stdout",
     "output_type": "stream",
     "text": [
      "case h\n",
      "R : Type u_2\n",
      "A : Type u_1\n",
      "inst✝² : CommSemiring R\n",
      "inst✝¹ : Semiring A\n",
      "inst✝ : Algebra R A\n",
      "x✝ : A\n",
      "⊢ ↑(mulLeft R 1) x✝ = ↑id x✝\n"
     ]
    }
   ],
   "source": [
    "state_1 = dojo.run_tac(state_0, \"ext\")\n",
    "\n",
    "print(state_1.pp)"
   ]
  },
  {
   "cell_type": "code",
   "execution_count": 26,
   "id": "89a62c89",
   "metadata": {},
   "outputs": [
    {
     "name": "stderr",
     "output_type": "stream",
     "text": [
      "\u001b[32m2023-07-20 21:58:17.719\u001b[0m | \u001b[34m\u001b[1mDEBUG   \u001b[0m | \u001b[36mlean_dojo.interaction.dojo\u001b[0m:\u001b[36m_submit_request\u001b[0m:\u001b[36m501\u001b[0m - \u001b[34m\u001b[1mRequest: {\"tsid\": 0, \"tac\": \"hello world!\"}\u001b[0m\n",
      "\u001b[32m2023-07-20 21:58:17.722\u001b[0m | \u001b[34m\u001b[1mDEBUG   \u001b[0m | \u001b[36mlean_dojo.interaction.dojo\u001b[0m:\u001b[36m_read_next_line\u001b[0m:\u001b[36m541\u001b[0m - \u001b[34m\u001b[1mREPL> {\"tsid\": null, \"tactic_state\": null, \"error\": \"<stdin>:1:1: unknown tactic\"}\u001b[0m\n"
     ]
    },
    {
     "data": {
      "text/plain": [
       "TacticError(error='<stdin>:1:1: unknown tactic')"
      ]
     },
     "execution_count": 26,
     "metadata": {},
     "output_type": "execute_result"
    }
   ],
   "source": [
    "state_2 = dojo.run_tac(state_0, \"hello world!\")\n",
    "\n",
    "state_2"
   ]
  },
  {
   "cell_type": "code",
   "execution_count": 27,
   "id": "10b5f013",
   "metadata": {},
   "outputs": [
    {
     "ename": "RuntimeError",
     "evalue": "Attempting to run a tactic on an invalid state TacticError(error='<stdin>:1:1: unknown tactic').",
     "output_type": "error",
     "traceback": [
      "\u001b[0;31m---------------------------------------------------------------------------\u001b[0m",
      "\u001b[0;31mRuntimeError\u001b[0m                              Traceback (most recent call last)",
      "Cell \u001b[0;32mIn[27], line 1\u001b[0m\n\u001b[0;32m----> 1\u001b[0m \u001b[43mdojo\u001b[49m\u001b[38;5;241;43m.\u001b[39;49m\u001b[43mrun_tac\u001b[49m\u001b[43m(\u001b[49m\u001b[43mstate_2\u001b[49m\u001b[43m,\u001b[49m\u001b[43m \u001b[49m\u001b[38;5;124;43m\"\u001b[39;49m\u001b[38;5;124;43mskip\u001b[39;49m\u001b[38;5;124;43m\"\u001b[39;49m\u001b[43m)\u001b[49m\n",
      "File \u001b[0;32m~/LeanDojo/src/lean_dojo/interaction/dojo.py:445\u001b[0m, in \u001b[0;36mDojo.run_tac\u001b[0;34m(self, state, tactic)\u001b[0m\n\u001b[1;32m    443\u001b[0m \u001b[38;5;28;01mdef\u001b[39;00m \u001b[38;5;21mrun_tac\u001b[39m(\u001b[38;5;28mself\u001b[39m, state: TacticState, tactic: \u001b[38;5;28mstr\u001b[39m) \u001b[38;5;241m-\u001b[39m\u001b[38;5;241m>\u001b[39m TacticResult:\n\u001b[1;32m    444\u001b[0m     \u001b[38;5;28;01mif\u001b[39;00m \u001b[38;5;129;01mnot\u001b[39;00m \u001b[38;5;28misinstance\u001b[39m(state, TacticState):\n\u001b[0;32m--> 445\u001b[0m         \u001b[38;5;28;01mraise\u001b[39;00m \u001b[38;5;167;01mRuntimeError\u001b[39;00m(\n\u001b[1;32m    446\u001b[0m             \u001b[38;5;124mf\u001b[39m\u001b[38;5;124m\"\u001b[39m\u001b[38;5;124mAttempting to run a tactic on an invalid state \u001b[39m\u001b[38;5;132;01m{\u001b[39;00mstate\u001b[38;5;132;01m}\u001b[39;00m\u001b[38;5;124m.\u001b[39m\u001b[38;5;124m\"\u001b[39m\n\u001b[1;32m    447\u001b[0m         )\n\u001b[1;32m    448\u001b[0m     \u001b[38;5;28;01massert\u001b[39;00m \u001b[38;5;28misinstance\u001b[39m(tactic, \u001b[38;5;28mstr\u001b[39m), \u001b[38;5;124mf\u001b[39m\u001b[38;5;124m\"\u001b[39m\u001b[38;5;124mInvalid tactic \u001b[39m\u001b[38;5;132;01m{\u001b[39;00mtactic\u001b[38;5;132;01m}\u001b[39;00m\u001b[38;5;124m\"\u001b[39m\n\u001b[1;32m    450\u001b[0m     tsid \u001b[38;5;241m=\u001b[39m state\u001b[38;5;241m.\u001b[39mid\n",
      "\u001b[0;31mRuntimeError\u001b[0m: Attempting to run a tactic on an invalid state TacticError(error='<stdin>:1:1: unknown tactic')."
     ]
    }
   ],
   "source": [
    "dojo.run_tac(state_2, \"skip\")"
   ]
  },
  {
   "cell_type": "code",
   "execution_count": 28,
   "id": "3eeb73e9",
   "metadata": {},
   "outputs": [
    {
     "name": "stderr",
     "output_type": "stream",
     "text": [
      "\u001b[32m2023-07-20 21:58:53.311\u001b[0m | \u001b[34m\u001b[1mDEBUG   \u001b[0m | \u001b[36mlean_dojo.interaction.dojo\u001b[0m:\u001b[36m_submit_request\u001b[0m:\u001b[36m501\u001b[0m - \u001b[34m\u001b[1mRequest: {\"tsid\": 0, \"tac\": \"repeat {skip}\"}\u001b[0m\n",
      "\u001b[32m2023-07-20 21:58:53.316\u001b[0m | \u001b[34m\u001b[1mDEBUG   \u001b[0m | \u001b[36mlean_dojo.interaction.dojo\u001b[0m:\u001b[36m_read_next_line\u001b[0m:\u001b[36m541\u001b[0m - \u001b[34m\u001b[1mREPL> {\"tsid\": 2, \"tactic_state\": \"R : Type u_2\\nA : Type u_1\\ninst✝² : CommSemiring R\\ninst✝¹ : Semiring A\\ninst✝ : Algebra R A\\n⊢ mulLeft R 1 = id\", \"error\": null}\u001b[0m\n"
     ]
    },
    {
     "data": {
      "text/plain": [
       "TacticState(pp='R : Type u_2\\nA : Type u_1\\ninst✝² : CommSemiring R\\ninst✝¹ : Semiring A\\ninst✝ : Algebra R A\\n⊢ mulLeft R 1 = id', id=2, message='')"
      ]
     },
     "execution_count": 28,
     "metadata": {},
     "output_type": "execute_result"
    }
   ],
   "source": [
    "dojo.run_tac(state_0, \"repeat {skip}\")"
   ]
  },
  {
   "cell_type": "code",
   "execution_count": 29,
   "id": "07013567",
   "metadata": {},
   "outputs": [
    {
     "data": {
      "text/plain": [
       "5000"
      ]
     },
     "execution_count": 29,
     "metadata": {},
     "output_type": "execute_result"
    }
   ],
   "source": [
    "from lean_dojo.constants import TACTIC_TIMEOUT\n",
    "\n",
    "TACTIC_TIMEOUT"
   ]
  },
  {
   "cell_type": "code",
   "execution_count": 30,
   "id": "65bae6ea",
   "metadata": {},
   "outputs": [
    {
     "name": "stderr",
     "output_type": "stream",
     "text": [
      "\u001b[32m2023-07-20 21:58:59.470\u001b[0m | \u001b[34m\u001b[1mDEBUG   \u001b[0m | \u001b[36mlean_dojo.interaction.dojo\u001b[0m:\u001b[36m_submit_request\u001b[0m:\u001b[36m501\u001b[0m - \u001b[34m\u001b[1mRequest: {\"tsid\": 0, \"tac\": \"sorry\"}\u001b[0m\n",
      "\u001b[32m2023-07-20 21:58:59.476\u001b[0m | \u001b[34m\u001b[1mDEBUG   \u001b[0m | \u001b[36mlean_dojo.interaction.dojo\u001b[0m:\u001b[36m_read_next_line\u001b[0m:\u001b[36m541\u001b[0m - \u001b[34m\u001b[1mREPL> {\"tsid\": null, \"tactic_state\": null, \"error\": \"proof contains `sorry`\"}\u001b[0m\n"
     ]
    },
    {
     "data": {
      "text/plain": [
       "ProofGivenUp()"
      ]
     },
     "execution_count": 30,
     "metadata": {},
     "output_type": "execute_result"
    }
   ],
   "source": [
    "dojo.run_tac(state_0, \"sorry\")"
   ]
  },
  {
   "cell_type": "code",
   "execution_count": 31,
   "id": "c373865a",
   "metadata": {},
   "outputs": [
    {
     "name": "stdout",
     "output_type": "stream",
     "text": [
      "R : Type u_2\n",
      "A : Type u_1\n",
      "inst✝² : CommSemiring R\n",
      "inst✝¹ : Semiring A\n",
      "inst✝ : Algebra R A\n",
      "⊢ mulLeft R 1 = id\n"
     ]
    }
   ],
   "source": [
    "print(state_0.pp)"
   ]
  },
  {
   "cell_type": "code",
   "execution_count": 32,
   "id": "a5d0156f",
   "metadata": {},
   "outputs": [
    {
     "name": "stderr",
     "output_type": "stream",
     "text": [
      "\u001b[32m2023-07-20 21:59:03.752\u001b[0m | \u001b[34m\u001b[1mDEBUG   \u001b[0m | \u001b[36mlean_dojo.interaction.dojo\u001b[0m:\u001b[36m_submit_request\u001b[0m:\u001b[36m501\u001b[0m - \u001b[34m\u001b[1mRequest: {\"tsid\": 0, \"tac\": \"ext\"}\u001b[0m\n",
      "\u001b[32m2023-07-20 21:59:03.760\u001b[0m | \u001b[34m\u001b[1mDEBUG   \u001b[0m | \u001b[36mlean_dojo.interaction.dojo\u001b[0m:\u001b[36m_read_next_line\u001b[0m:\u001b[36m541\u001b[0m - \u001b[34m\u001b[1mREPL> {\"tsid\": 3, \"tactic_state\": \"case h\\nR : Type u_2\\nA : Type u_1\\ninst✝² : CommSemiring R\\ninst✝¹ : Semiring A\\ninst✝ : Algebra R A\\nx✝ : A\\n⊢ ↑(mulLeft R 1) x✝ = ↑id x✝\", \"error\": null}\u001b[0m\n"
     ]
    },
    {
     "name": "stdout",
     "output_type": "stream",
     "text": [
      "case h\n",
      "R : Type u_2\n",
      "A : Type u_1\n",
      "inst✝² : CommSemiring R\n",
      "inst✝¹ : Semiring A\n",
      "inst✝ : Algebra R A\n",
      "x✝ : A\n",
      "⊢ ↑(mulLeft R 1) x✝ = ↑id x✝\n"
     ]
    }
   ],
   "source": [
    "state_3 = dojo.run_tac(state_0, \"ext\")\n",
    "\n",
    "print(state_3.pp)"
   ]
  },
  {
   "cell_type": "code",
   "execution_count": 33,
   "id": "71ab5854",
   "metadata": {},
   "outputs": [
    {
     "name": "stderr",
     "output_type": "stream",
     "text": [
      "\u001b[32m2023-07-20 21:59:08.224\u001b[0m | \u001b[34m\u001b[1mDEBUG   \u001b[0m | \u001b[36mlean_dojo.interaction.dojo\u001b[0m:\u001b[36m_submit_request\u001b[0m:\u001b[36m501\u001b[0m - \u001b[34m\u001b[1mRequest: {\"tsid\": 3, \"tac\": \"simp only [LinearMap.id_coe, one_mul, id.def, mulLeft_apply]\"}\u001b[0m\n",
      "\u001b[32m2023-07-20 21:59:08.248\u001b[0m | \u001b[34m\u001b[1mDEBUG   \u001b[0m | \u001b[36mlean_dojo.interaction.dojo\u001b[0m:\u001b[36m_read_next_line\u001b[0m:\u001b[36m541\u001b[0m - \u001b[34m\u001b[1mREPL> {\"tsid\": 4, \"tactic_state\": \"no goals\", \"error\": null}\u001b[0m\n"
     ]
    },
    {
     "name": "stdout",
     "output_type": "stream",
     "text": [
      "ProofFinished(tactic_state_id=4, message='')\n"
     ]
    }
   ],
   "source": [
    "state_4 = dojo.run_tac(state_3, \"simp only [LinearMap.id_coe, one_mul, id.def, mulLeft_apply]\")\n",
    "\n",
    "print(state_4)"
   ]
  },
  {
   "cell_type": "code",
   "execution_count": 34,
   "id": "fdb44496",
   "metadata": {},
   "outputs": [
    {
     "data": {
      "text/plain": [
       "True"
      ]
     },
     "execution_count": 34,
     "metadata": {},
     "output_type": "execute_result"
    }
   ],
   "source": [
    "dojo.is_proved"
   ]
  },
  {
   "cell_type": "code",
   "execution_count": null,
   "id": "a31b8d7c",
   "metadata": {},
   "outputs": [],
   "source": []
  },
  {
   "cell_type": "code",
   "execution_count": null,
   "id": "fa231e94",
   "metadata": {},
   "outputs": [],
   "source": []
  },
  {
   "cell_type": "code",
   "execution_count": null,
   "id": "ac7e1b00",
   "metadata": {},
   "outputs": [],
   "source": []
  }
 ],
 "metadata": {
  "kernelspec": {
   "display_name": "Python 3 (ipykernel)",
   "language": "python",
   "name": "python3"
  },
  "language_info": {
   "codemirror_mode": {
    "name": "ipython",
    "version": 3
   },
   "file_extension": ".py",
   "mimetype": "text/x-python",
   "name": "python",
   "nbconvert_exporter": "python",
   "pygments_lexer": "ipython3",
   "version": "3.10.10"
  }
 },
 "nbformat": 4,
 "nbformat_minor": 5
}
